{
 "cells": [
  {
   "cell_type": "code",
   "execution_count": 1,
   "metadata": {},
   "outputs": [],
   "source": [
    "import warnings\n",
    "warnings.filterwarnings(\"ignore\")"
   ]
  },
  {
   "cell_type": "markdown",
   "metadata": {},
   "source": [
    "# 线性分类SVM"
   ]
  },
  {
   "cell_type": "code",
   "execution_count": 2,
   "metadata": {},
   "outputs": [
    {
     "name": "stdout",
     "output_type": "stream",
     "text": [
      "Coefficients:[[ 0.20959442  0.39924011 -0.81739079 -0.44231989]\n",
      " [-0.1048084  -0.79788432  0.5019975  -1.04753828]\n",
      " [-0.80306474 -0.87615938  1.21378552  1.81011772]], intercept [ 0.11973824  2.05348646 -1.44399209]\n",
      "Score: 0.97\n"
     ]
    },
    {
     "name": "stderr",
     "output_type": "stream",
     "text": [
      "E:\\Anaconda3\\lib\\site-packages\\sklearn\\svm\\_base.py:986: ConvergenceWarning: Liblinear failed to converge, increase the number of iterations.\n",
      "  \"the number of iterations.\", ConvergenceWarning)\n"
     ]
    }
   ],
   "source": [
    "import numpy as np\n",
    "import matplotlib.pyplot as plt\n",
    "from sklearn import datasets, linear_model,svm\n",
    "from sklearn.model_selection import train_test_split\n",
    "# 使用 scikit-learn 自带的 iris 数据集\n",
    "iris=datasets.load_iris() \n",
    "X_train=iris.data\n",
    "y_train=iris.target\n",
    "# 分层采样拆分成训练集和测试集，测试集大小为原始数据集大小的 1/4\n",
    "X_train,X_test,y_train,y_test=train_test_split(X_train, y_train,test_size=0.25,\n",
    "                                                random_state=0,stratify=y_train) \n",
    "# 测试 LinearSVC 的用法\n",
    "def test_LinearSVC(*data):\n",
    "    X_train,X_test,y_train,y_test=data\n",
    "    cls=svm.LinearSVC()\n",
    "    cls.fit(X_train,y_train)\n",
    "    print('Coefficients:%s, intercept %s'%(cls.coef_,cls.intercept_))\n",
    "    print('Score: %.2f' % cls.score(X_test, y_test))\n",
    "test_LinearSVC(X_train,X_test,y_train,y_test) "
   ]
  },
  {
   "cell_type": "code",
   "execution_count": 3,
   "metadata": {},
   "outputs": [],
   "source": [
    "cls=svm.LinearSVC()\n",
    "??cls"
   ]
  },
  {
   "cell_type": "code",
   "execution_count": 4,
   "metadata": {},
   "outputs": [
    {
     "name": "stdout",
     "output_type": "stream",
     "text": [
      "Loss:hinge\n",
      "Coefficients:[[ 0.36635871  0.32163842 -1.0753349  -0.57004485]\n",
      " [ 0.45498975 -1.52595346  0.41886916 -1.40650551]\n",
      " [-1.21546367 -1.15005521  1.85584994  1.97536581]], intercept [ 0.18049881  1.35570969 -1.43792784]\n",
      "Score: 0.97\n",
      "Loss:squared_hinge\n",
      "Coefficients:[[ 0.2095936   0.3992405  -0.81739005 -0.44231798]\n",
      " [-0.12225175 -0.78767304  0.52348668 -1.05249262]\n",
      " [-0.80316104 -0.87620104  1.2137693   1.80993649]], intercept [ 0.11973932  2.04040771 -1.44378671]\n",
      "Score: 0.97\n"
     ]
    },
    {
     "name": "stderr",
     "output_type": "stream",
     "text": [
      "E:\\Anaconda3\\lib\\site-packages\\sklearn\\svm\\_base.py:986: ConvergenceWarning: Liblinear failed to converge, increase the number of iterations.\n",
      "  \"the number of iterations.\", ConvergenceWarning)\n",
      "E:\\Anaconda3\\lib\\site-packages\\sklearn\\svm\\_base.py:986: ConvergenceWarning: Liblinear failed to converge, increase the number of iterations.\n",
      "  \"the number of iterations.\", ConvergenceWarning)\n"
     ]
    }
   ],
   "source": [
    "# 测试 LinearSVC 的预测性能随损失函数的影响\n",
    "def test_LinearSVC_loss(*data):\n",
    "    X_train,X_test,y_train,y_test=data\n",
    "    losses=['hinge','squared_hinge']\n",
    "    for loss in losses:\n",
    "        cls=svm.LinearSVC(loss=loss)\n",
    "        cls.fit(X_train,y_train)\n",
    "        print(\"Loss:%s\"%loss)\n",
    "        print('Coefficients:%s, intercept %s'%(cls.coef_,cls.intercept_))\n",
    "        print('Score: %.2f' % cls.score(X_test, y_test))\n",
    "test_LinearSVC_loss(X_train,X_test,y_train,y_test)"
   ]
  },
  {
   "cell_type": "code",
   "execution_count": 5,
   "metadata": {},
   "outputs": [
    {
     "name": "stdout",
     "output_type": "stream",
     "text": [
      "penalty:l1\n",
      "Coefficients:[[ 0.18670825  0.49174601 -0.94641184  0.        ]\n",
      " [-0.14702164 -0.9131701   0.48852844 -0.96901107]\n",
      " [-0.55071799 -0.85322778  0.94316178  2.3405957 ]], intercept [ 0.          2.59080933 -2.63426486]\n",
      "Score: 0.95\n"
     ]
    },
    {
     "name": "stderr",
     "output_type": "stream",
     "text": [
      "E:\\Anaconda3\\lib\\site-packages\\sklearn\\svm\\_base.py:986: ConvergenceWarning: Liblinear failed to converge, increase the number of iterations.\n",
      "  \"the number of iterations.\", ConvergenceWarning)\n"
     ]
    },
    {
     "name": "stdout",
     "output_type": "stream",
     "text": [
      "penalty:l2\n",
      "Coefficients:[[ 0.20966872  0.39922528 -0.81739501 -0.44237636]\n",
      " [-0.12586721 -0.79341553  0.52877475 -1.05556047]\n",
      " [-0.80310102 -0.8765723   1.2139247   1.81023784]], intercept [ 0.1194489   2.05948648 -1.44408141]\n",
      "Score: 0.95\n"
     ]
    }
   ],
   "source": [
    "# 测试 LinearSVC 的预测性能随正则化形式的影响\n",
    "def test_LinearSVC_L12(*data):\n",
    "    X_train,X_test,y_train,y_test=data\n",
    "    L12=['l1','l2']\n",
    "    for p in L12:\n",
    "        cls=svm.LinearSVC(penalty=p,dual=False)\n",
    "        cls.fit(X_train,y_train)\n",
    "        print(\"penalty:%s\"%p)\n",
    "        print('Coefficients:%s, intercept %s'%(cls.coef_,cls.intercept_))\n",
    "        print('Score: %.2f' % cls.score(X_test, y_test))\n",
    "test_LinearSVC_L12(X_train,X_test,y_train,y_test)"
   ]
  },
  {
   "cell_type": "code",
   "execution_count": 6,
   "metadata": {},
   "outputs": [
    {
     "name": "stderr",
     "output_type": "stream",
     "text": [
      "E:\\Anaconda3\\lib\\site-packages\\sklearn\\svm\\_base.py:986: ConvergenceWarning: Liblinear failed to converge, increase the number of iterations.\n",
      "  \"the number of iterations.\", ConvergenceWarning)\n",
      "E:\\Anaconda3\\lib\\site-packages\\sklearn\\svm\\_base.py:986: ConvergenceWarning: Liblinear failed to converge, increase the number of iterations.\n",
      "  \"the number of iterations.\", ConvergenceWarning)\n",
      "E:\\Anaconda3\\lib\\site-packages\\sklearn\\svm\\_base.py:986: ConvergenceWarning: Liblinear failed to converge, increase the number of iterations.\n",
      "  \"the number of iterations.\", ConvergenceWarning)\n",
      "E:\\Anaconda3\\lib\\site-packages\\sklearn\\svm\\_base.py:986: ConvergenceWarning: Liblinear failed to converge, increase the number of iterations.\n",
      "  \"the number of iterations.\", ConvergenceWarning)\n",
      "E:\\Anaconda3\\lib\\site-packages\\sklearn\\svm\\_base.py:986: ConvergenceWarning: Liblinear failed to converge, increase the number of iterations.\n",
      "  \"the number of iterations.\", ConvergenceWarning)\n",
      "E:\\Anaconda3\\lib\\site-packages\\sklearn\\svm\\_base.py:986: ConvergenceWarning: Liblinear failed to converge, increase the number of iterations.\n",
      "  \"the number of iterations.\", ConvergenceWarning)\n",
      "E:\\Anaconda3\\lib\\site-packages\\sklearn\\svm\\_base.py:986: ConvergenceWarning: Liblinear failed to converge, increase the number of iterations.\n",
      "  \"the number of iterations.\", ConvergenceWarning)\n",
      "E:\\Anaconda3\\lib\\site-packages\\sklearn\\svm\\_base.py:986: ConvergenceWarning: Liblinear failed to converge, increase the number of iterations.\n",
      "  \"the number of iterations.\", ConvergenceWarning)\n",
      "E:\\Anaconda3\\lib\\site-packages\\sklearn\\svm\\_base.py:986: ConvergenceWarning: Liblinear failed to converge, increase the number of iterations.\n",
      "  \"the number of iterations.\", ConvergenceWarning)\n",
      "E:\\Anaconda3\\lib\\site-packages\\sklearn\\svm\\_base.py:986: ConvergenceWarning: Liblinear failed to converge, increase the number of iterations.\n",
      "  \"the number of iterations.\", ConvergenceWarning)\n",
      "E:\\Anaconda3\\lib\\site-packages\\sklearn\\svm\\_base.py:986: ConvergenceWarning: Liblinear failed to converge, increase the number of iterations.\n",
      "  \"the number of iterations.\", ConvergenceWarning)\n",
      "E:\\Anaconda3\\lib\\site-packages\\sklearn\\svm\\_base.py:986: ConvergenceWarning: Liblinear failed to converge, increase the number of iterations.\n",
      "  \"the number of iterations.\", ConvergenceWarning)\n",
      "E:\\Anaconda3\\lib\\site-packages\\sklearn\\svm\\_base.py:986: ConvergenceWarning: Liblinear failed to converge, increase the number of iterations.\n",
      "  \"the number of iterations.\", ConvergenceWarning)\n",
      "E:\\Anaconda3\\lib\\site-packages\\sklearn\\svm\\_base.py:986: ConvergenceWarning: Liblinear failed to converge, increase the number of iterations.\n",
      "  \"the number of iterations.\", ConvergenceWarning)\n",
      "E:\\Anaconda3\\lib\\site-packages\\sklearn\\svm\\_base.py:986: ConvergenceWarning: Liblinear failed to converge, increase the number of iterations.\n",
      "  \"the number of iterations.\", ConvergenceWarning)\n",
      "E:\\Anaconda3\\lib\\site-packages\\sklearn\\svm\\_base.py:986: ConvergenceWarning: Liblinear failed to converge, increase the number of iterations.\n",
      "  \"the number of iterations.\", ConvergenceWarning)\n",
      "E:\\Anaconda3\\lib\\site-packages\\sklearn\\svm\\_base.py:986: ConvergenceWarning: Liblinear failed to converge, increase the number of iterations.\n",
      "  \"the number of iterations.\", ConvergenceWarning)\n",
      "E:\\Anaconda3\\lib\\site-packages\\sklearn\\svm\\_base.py:986: ConvergenceWarning: Liblinear failed to converge, increase the number of iterations.\n",
      "  \"the number of iterations.\", ConvergenceWarning)\n",
      "E:\\Anaconda3\\lib\\site-packages\\sklearn\\svm\\_base.py:986: ConvergenceWarning: Liblinear failed to converge, increase the number of iterations.\n",
      "  \"the number of iterations.\", ConvergenceWarning)\n",
      "E:\\Anaconda3\\lib\\site-packages\\sklearn\\svm\\_base.py:986: ConvergenceWarning: Liblinear failed to converge, increase the number of iterations.\n",
      "  \"the number of iterations.\", ConvergenceWarning)\n",
      "E:\\Anaconda3\\lib\\site-packages\\sklearn\\svm\\_base.py:986: ConvergenceWarning: Liblinear failed to converge, increase the number of iterations.\n",
      "  \"the number of iterations.\", ConvergenceWarning)\n",
      "E:\\Anaconda3\\lib\\site-packages\\sklearn\\svm\\_base.py:986: ConvergenceWarning: Liblinear failed to converge, increase the number of iterations.\n",
      "  \"the number of iterations.\", ConvergenceWarning)\n",
      "E:\\Anaconda3\\lib\\site-packages\\sklearn\\svm\\_base.py:986: ConvergenceWarning: Liblinear failed to converge, increase the number of iterations.\n",
      "  \"the number of iterations.\", ConvergenceWarning)\n",
      "E:\\Anaconda3\\lib\\site-packages\\sklearn\\svm\\_base.py:986: ConvergenceWarning: Liblinear failed to converge, increase the number of iterations.\n",
      "  \"the number of iterations.\", ConvergenceWarning)\n"
     ]
    },
    {
     "data": {
      "image/png": "[encoded data removed]",
      "text/plain": [
       "<Figure size 432x288 with 1 Axes>"
      ]
     },
     "metadata": {
      "needs_background": "light"
     },
     "output_type": "display_data"
    }
   ],
   "source": [
    "# 测试 LinearSVC 的预测性能随参数 C 的影响\n",
    "def test_LinearSVC_C(*data):\n",
    "    X_train,X_test,y_train,y_test=data\n",
    "    Cs=np.logspace(-2,1)\n",
    "    train_scores=[]\n",
    "    test_scores=[]\n",
    "    for C in Cs:\n",
    "        cls=svm.LinearSVC(C=C)\n",
    "        cls.fit(X_train,y_train)\n",
    "        train_scores.append(cls.score(X_train,y_train))\n",
    "        test_scores.append(cls.score(X_test,y_test))\n",
    "\n",
    "    ## 绘图\n",
    "    fig=plt.figure()\n",
    "    ax=fig.add_subplot(1,1,1)\n",
    "    ax.plot(Cs,train_scores,label=\"Traing score\")\n",
    "    ax.plot(Cs,test_scores,label=\"Testing score\")\n",
    "    ax.set_xlabel(r\"C\")\n",
    "    ax.set_ylabel(r\"score\")\n",
    "    ax.set_xscale('log')\n",
    "    ax.set_title(\"LinearSVC\")\n",
    "    ax.legend(loc='best')\n",
    "    plt.show()\n",
    "test_LinearSVC_C(X_train,X_test,y_train,y_test)"
   ]
  },
  {
   "cell_type": "markdown",
   "metadata": {},
   "source": [
    "# 非线性分类SVM"
   ]
  },
  {
   "cell_type": "code",
   "execution_count": 7,
   "metadata": {},
   "outputs": [
    {
     "name": "stdout",
     "output_type": "stream",
     "text": [
      "Coefficients:[[-0.16990304  0.47442881 -0.93075307 -0.51249447]\n",
      " [ 0.02439178  0.21890135 -0.52833486 -0.25913786]\n",
      " [ 0.52289771  0.95783924 -1.82516872 -2.00292778]], intercept [2.0368826 1.1512924 6.3276538]\n",
      "Score: 1.00\n"
     ]
    }
   ],
   "source": [
    "# 测试 SVC 的用法,使用最简单的线性核\n",
    "def test_SVC_linear(*data):\n",
    "    X_train,X_test,y_train,y_test=data\n",
    "    cls=svm.SVC(kernel='linear')\n",
    "    cls.fit(X_train,y_train)\n",
    "    print('Coefficients:%s, intercept %s'%(cls.coef_,cls.intercept_))\n",
    "    print('Score: %.2f' % cls.score(X_test, y_test))\n",
    "test_SVC_linear(X_train,X_test,y_train,y_test)"
   ]
  },
  {
   "cell_type": "code",
   "execution_count": 11,
   "metadata": {},
   "outputs": [],
   "source": [
    "cls=svm.SVC(kernel='linear')\n",
    "??cls"
   ]
  },
  {
   "cell_type": "code",
   "execution_count": 8,
   "metadata": {},
   "outputs": [
    {
     "data": {
      "image/png": "[encoded data removed]",
      "text/plain": [
       "<Figure size 432x288 with 3 Axes>"
      ]
     },
     "metadata": {
      "needs_background": "light"
     },
     "output_type": "display_data"
    }
   ],
   "source": [
    "#   测试多项式核的 SVC 的预测性能随 degree、gamma、coef0 的影响\n",
    "def test_SVC_poly(*data):\n",
    "    X_train,X_test,y_train,y_test=data\n",
    "    fig=plt.figure()\n",
    "    ### 测试 degree ####\n",
    "    degrees=range(1,20)\n",
    "    train_scores=[]\n",
    "    test_scores=[]\n",
    "    for degree in degrees:\n",
    "        cls=svm.SVC(kernel='poly',degree=degree)\n",
    "        cls.fit(X_train,y_train)\n",
    "        train_scores.append(cls.score(X_train,y_train))\n",
    "        test_scores.append(cls.score(X_test, y_test))\n",
    "    ax=fig.add_subplot(1,3,1) # 一行三列\n",
    "    ax.plot(degrees,train_scores,label=\"Training score \",marker='+' )\n",
    "    ax.plot(degrees,test_scores,label= \" Testing  score \",marker='o' )\n",
    "    ax.set_title( \"SVC_poly_degree \")\n",
    "    ax.set_xlabel(\"p\")\n",
    "    ax.set_ylabel(\"score\")\n",
    "    ax.set_ylim(0,1.05)\n",
    "    ax.legend(loc=\"best\",framealpha=0.5)\n",
    "\n",
    "    ### 测试 gamma ，此时 degree 固定为 3####\n",
    "    gammas=range(1,20)\n",
    "    train_scores=[]\n",
    "    test_scores=[]\n",
    "    for gamma in gammas:\n",
    "        cls=svm.SVC(kernel='poly',gamma=gamma,degree=3)\n",
    "        cls.fit(X_train,y_train)\n",
    "        train_scores.append(cls.score(X_train,y_train))\n",
    "        test_scores.append(cls.score(X_test, y_test))\n",
    "    ax=fig.add_subplot(1,3,2)\n",
    "    ax.plot(gammas,train_scores,label=\"Training score \",marker='+' )\n",
    "    ax.plot(gammas,test_scores,label= \" Testing  score \",marker='o' )\n",
    "    ax.set_title( \"SVC_poly_gamma \")\n",
    "    ax.set_xlabel(r\"$\\gamma$\")\n",
    "    ax.set_ylabel(\"score\")\n",
    "    ax.set_ylim(0,1.05)\n",
    "    ax.legend(loc=\"best\",framealpha=0.5)\n",
    "    ### 测试 r ，此时 gamma固定为10 ， degree 固定为 3######\n",
    "    rs=range(0,20)\n",
    "    train_scores=[]\n",
    "    test_scores=[]\n",
    "    for r in rs:\n",
    "        cls=svm.SVC(kernel='poly',gamma=10,degree=3,coef0=r)\n",
    "        cls.fit(X_train,y_train)\n",
    "        train_scores.append(cls.score(X_train,y_train))\n",
    "        test_scores.append(cls.score(X_test, y_test))\n",
    "    ax=fig.add_subplot(1,3,3)\n",
    "    ax.plot(rs,train_scores,label=\"Training score \",marker='+' )\n",
    "    ax.plot(rs,test_scores,label= \" Testing  score \",marker='o' )\n",
    "    ax.set_title( \"SVC_poly_r \")\n",
    "    ax.set_xlabel(r\"r\")\n",
    "    ax.set_ylabel(\"score\")\n",
    "    ax.set_ylim(0,1.05)\n",
    "    ax.legend(loc=\"best\",framealpha=0.5)\n",
    "    plt.subplots_adjust(wspace=0.5)\n",
    "    plt.show()\n",
    "test_SVC_poly(X_train,X_test,y_train,y_test)"
   ]
  },
  {
   "cell_type": "code",
   "execution_count": 13,
   "metadata": {},
   "outputs": [
    {
     "data": {
      "image/png": "[encoded data removed]",
      "text/plain": [
       "<Figure size 432x288 with 1 Axes>"
      ]
     },
     "metadata": {
      "needs_background": "light"
     },
     "output_type": "display_data"
    }
   ],
   "source": [
    "# 测试 高斯核的 SVC 的预测性能随 gamma 参数的影响\n",
    "def test_SVC_rbf(*data):\n",
    "    X_train,X_test,y_train,y_test=data\n",
    "    gammas=range(1,20)\n",
    "    train_scores=[]\n",
    "    test_scores=[]\n",
    "    for gamma in gammas:\n",
    "        cls=svm.SVC(kernel='rbf',gamma=gamma)\n",
    "        cls.fit(X_train,y_train)\n",
    "        train_scores.append(cls.score(X_train,y_train))\n",
    "        test_scores.append(cls.score(X_test, y_test))\n",
    "    fig=plt.figure()\n",
    "    ax=fig.add_subplot(1,1,1)\n",
    "    ax.plot(gammas,train_scores,label=\"Training score \",marker='+' )\n",
    "    ax.plot(gammas,test_scores,label= \" Testing  score \",marker='o' )\n",
    "    ax.set_title( \"SVC_rbf\")\n",
    "    ax.set_xlabel(r\"$\\gamma$\")\n",
    "    ax.set_ylabel(\"score\")\n",
    "    ax.set_ylim(0,1.05)\n",
    "    ax.legend(loc=\"best\",framealpha=0.5)\n",
    "    plt.show()\n",
    "test_SVC_rbf(X_train,X_test,y_train,y_test)"
   ]
  },
  {
   "cell_type": "code",
   "execution_count": 9,
   "metadata": {},
   "outputs": [
    {
     "data": {
      "image/png": "[encoded data removed]",
      "text/plain": [
       "<Figure size 432x288 with 2 Axes>"
      ]
     },
     "metadata": {
      "needs_background": "light"
     },
     "output_type": "display_data"
    }
   ],
   "source": [
    "# 测试 sigmoid 核的 SVC 的预测性能随 gamma、coef0 的影响\n",
    "def test_SVC_sigmoid(*data):\n",
    "    X_train,X_test,y_train,y_test=data\n",
    "    fig=plt.figure()\n",
    "\n",
    "    ### 测试 gamma ，固定 coef0 为 0 ####\n",
    "    gammas=np.logspace(-2,1)\n",
    "    train_scores=[]\n",
    "    test_scores=[]\n",
    "\n",
    "    for gamma in gammas:\n",
    "        cls=svm.SVC(kernel='sigmoid',gamma=gamma,coef0=0)\n",
    "        cls.fit(X_train,y_train)\n",
    "        train_scores.append(cls.score(X_train,y_train))\n",
    "        test_scores.append(cls.score(X_test, y_test))\n",
    "    ax=fig.add_subplot(1,2,1)\n",
    "    ax.plot(gammas,train_scores,label=\"Training score \",marker='+' )\n",
    "    ax.plot(gammas,test_scores,label= \" Testing  score \",marker='o' )\n",
    "    ax.set_title( \"SVC_sigmoid_gamma \")\n",
    "    ax.set_xscale(\"log\")\n",
    "    ax.set_xlabel(r\"$\\gamma$\")\n",
    "    ax.set_ylabel(\"score\")\n",
    "    ax.set_ylim(0,1.05)\n",
    "    ax.legend(loc=\"best\",framealpha=0.5)\n",
    "    ### 测试 r，固定 gamma 为 0.01 ######\n",
    "    rs=np.linspace(0,5)\n",
    "    train_scores=[]\n",
    "    test_scores=[]\n",
    "\n",
    "    for r in rs:\n",
    "        cls=svm.SVC(kernel='sigmoid',coef0=r,gamma=0.01)\n",
    "        cls.fit(X_train,y_train)\n",
    "        train_scores.append(cls.score(X_train,y_train))\n",
    "        test_scores.append(cls.score(X_test, y_test))\n",
    "    ax=fig.add_subplot(1,2,2)\n",
    "    ax.plot(rs,train_scores,label=\"Training score \",marker='+' )\n",
    "    ax.plot(rs,test_scores,label= \" Testing  score \",marker='o' )\n",
    "    ax.set_title( \"SVC_sigmoid_r \")\n",
    "    ax.set_xlabel(r\"r\")\n",
    "    ax.set_ylabel(\"score\")\n",
    "    ax.set_ylim(0,1.05)\n",
    "    ax.legend(loc=\"best\",framealpha=0.5)\n",
    "    plt.subplots_adjust(wspace=0.5)\n",
    "    plt.show()\n",
    "test_SVC_sigmoid(X_train,X_test,y_train,y_test)"
   ]
  },
  {
   "cell_type": "markdown",
   "metadata": {},
   "source": [
    "# 线性回归SVR"
   ]
  },
  {
   "cell_type": "code",
   "execution_count": 18,
   "metadata": {},
   "outputs": [
    {
     "name": "stdout",
     "output_type": "stream",
     "text": [
      "Coefficients:[ 2.14940259  0.4418875   6.35258779  4.62357282  2.82085901  2.42005063\n",
      " -5.3367464   5.41765142  7.26812843  4.33778867], intercept [99.]\n",
      "Score: -0.56\n"
     ]
    }
   ],
   "source": [
    "import numpy as np\n",
    "import matplotlib.pyplot as plt\n",
    "from sklearn import datasets, linear_model,svm\n",
    "from sklearn.model_selection import train_test_split\n",
    "#使用 scikit-learn 自带的一个糖尿病病人的数据集\n",
    "diabetes = datasets.load_diabetes() \n",
    "# 拆分成训练集和测试集，测试集大小为原始数据集大小的 1/4\n",
    "X_train,X_test,y_train,y_test=train_test_split(diabetes.data,diabetes.target,\n",
    "                test_size=0.25,random_state=0)\n",
    "#  测试 LinearSVR 的用法\n",
    "def test_LinearSVR(*data):\n",
    "    X_train,X_test,y_train,y_test=data\n",
    "    regr=svm.LinearSVR()\n",
    "    regr.fit(X_train,y_train)\n",
    "    print('Coefficients:%s, intercept %s'%(regr.coef_,regr.intercept_))\n",
    "    print('Score: %.2f' % regr.score(X_test, y_test))\n",
    "test_LinearSVR(X_train,X_test,y_train,y_test)"
   ]
  },
  {
   "cell_type": "code",
   "execution_count": 19,
   "metadata": {},
   "outputs": [],
   "source": [
    "regr=svm.LinearSVR()\n",
    "??regr"
   ]
  },
  {
   "cell_type": "code",
   "execution_count": 20,
   "metadata": {},
   "outputs": [
    {
     "name": "stdout",
     "output_type": "stream",
     "text": [
      "loss：epsilon_insensitive\n",
      "Coefficients:[ 2.14940259  0.4418875   6.35258779  4.62357282  2.82085901  2.42005063\n",
      " -5.3367464   5.41765142  7.26812843  4.33778867], intercept [99.]\n",
      "Score: -0.56\n",
      "loss：squared_epsilon_insensitive\n",
      "Coefficients:[   7.04932202 -103.32761629  395.67498761  221.76261884  -11.07933753\n",
      "  -63.55434165 -176.67645628  117.56216444  322.63424656   95.61512766], intercept [152.37276454]\n",
      "Score: 0.38\n"
     ]
    }
   ],
   "source": [
    "# 测试 LinearSVR 的预测性能随不同损失函数的影响\n",
    "def test_LinearSVR_loss(*data):\n",
    "    X_train,X_test,y_train,y_test=data\n",
    "    losses=['epsilon_insensitive','squared_epsilon_insensitive']\n",
    "    for loss in losses:\n",
    "        regr=svm.LinearSVR(loss=loss)\n",
    "        regr.fit(X_train,y_train)\n",
    "        print(\"loss：%s\"%loss)\n",
    "        print('Coefficients:%s, intercept %s'%(regr.coef_,regr.intercept_))\n",
    "        print('Score: %.2f' % regr.score(X_test, y_test))\n",
    "test_LinearSVR_loss(X_train,X_test,y_train,y_test)"
   ]
  },
  {
   "cell_type": "code",
   "execution_count": 21,
   "metadata": {},
   "outputs": [
    {
     "data": {
      "image/png": "[encoded data removed]",
      "text/plain": [
       "<Figure size 432x288 with 1 Axes>"
      ]
     },
     "metadata": {
      "needs_background": "light"
     },
     "output_type": "display_data"
    }
   ],
   "source": [
    "# 测试 LinearSVR 的预测性能随 epsilon 参数的影响\n",
    "def test_LinearSVR_epsilon(*data):\n",
    "    X_train,X_test,y_train,y_test=data\n",
    "    epsilons=np.logspace(-2,2)\n",
    "    train_scores=[]\n",
    "    test_scores=[]\n",
    "    for  epsilon in  epsilons:\n",
    "        regr=svm.LinearSVR(epsilon=epsilon,loss='squared_epsilon_insensitive')\n",
    "        regr.fit(X_train,y_train)\n",
    "        train_scores.append(regr.score(X_train, y_train))\n",
    "        test_scores.append(regr.score(X_test, y_test))\n",
    "    fig=plt.figure()\n",
    "    ax=fig.add_subplot(1,1,1)\n",
    "    ax.plot(epsilons,train_scores,label=\"Training score \",marker='+' )\n",
    "    ax.plot(epsilons,test_scores,label= \" Testing  score \",marker='o' )\n",
    "    ax.set_title( \"LinearSVR_epsilon \")\n",
    "    ax.set_xscale(\"log\")\n",
    "    ax.set_xlabel(r\"$\\epsilon$\")\n",
    "    ax.set_ylabel(\"score\")\n",
    "    ax.set_ylim(-1,1.05)\n",
    "    ax.legend(loc=\"best\",framealpha=0.5)\n",
    "    plt.show()\n",
    "test_LinearSVR_epsilon(X_train,X_test,y_train,y_test)"
   ]
  },
  {
   "cell_type": "code",
   "execution_count": 22,
   "metadata": {},
   "outputs": [
    {
     "data": {
      "image/png": "[encoded data removed]",
      "text/plain": [
       "<Figure size 432x288 with 1 Axes>"
      ]
     },
     "metadata": {
      "needs_background": "light"
     },
     "output_type": "display_data"
    }
   ],
   "source": [
    "# 测试 LinearSVR 的预测性能随 C 参数的影响\n",
    "def test_LinearSVR_C(*data):\n",
    "    X_train,X_test,y_train,y_test=data\n",
    "    Cs=np.logspace(-1,2)\n",
    "    train_scores=[]\n",
    "    test_scores=[]\n",
    "    for  C in  Cs:\n",
    "        regr=svm.LinearSVR(epsilon=0.1,loss='squared_epsilon_insensitive',C=C)\n",
    "        regr.fit(X_train,y_train)\n",
    "        train_scores.append(regr.score(X_train, y_train))\n",
    "        test_scores.append(regr.score(X_test, y_test))\n",
    "    fig=plt.figure()\n",
    "    ax=fig.add_subplot(1,1,1)\n",
    "    ax.plot(Cs,train_scores,label=\"Training score \",marker='+' )\n",
    "    ax.plot(Cs,test_scores,label= \" Testing  score \",marker='o' )\n",
    "    ax.set_title( \"LinearSVR_C \")\n",
    "    ax.set_xscale(\"log\")\n",
    "    ax.set_xlabel(r\"C\")\n",
    "    ax.set_ylabel(\"score\")\n",
    "    ax.set_ylim(-1,1.05)\n",
    "    ax.legend(loc=\"best\",framealpha=0.5)\n",
    "    plt.show()\n",
    "test_LinearSVR_C(X_train,X_test,y_train,y_test)"
   ]
  },
  {
   "cell_type": "markdown",
   "metadata": {},
   "source": [
    "# 非线性回归SVR"
   ]
  },
  {
   "cell_type": "code",
   "execution_count": 24,
   "metadata": {},
   "outputs": [
    {
     "name": "stdout",
     "output_type": "stream",
     "text": [
      "Coefficients:[[ 2.24127622 -0.38128702  7.87018376  5.21135861  2.26619436  1.70869458\n",
      "  -5.7746489   5.51487251  7.94860817  4.59359657]], intercept [137.11012796]\n",
      "Score: -0.03\n"
     ]
    }
   ],
   "source": [
    "# 测试 SVR 的用法。这里使用最简单的线性核\n",
    "def test_SVR_linear(*data):\n",
    "    X_train,X_test,y_train,y_test=data\n",
    "    regr=svm.SVR(kernel='linear')\n",
    "    regr.fit(X_train,y_train)\n",
    "    print('Coefficients:%s, intercept %s'%(regr.coef_,regr.intercept_))\n",
    "    print('Score: %.2f' % regr.score(X_test, y_test))\n",
    "test_SVR_linear(X_train,X_test,y_train,y_test)"
   ]
  },
  {
   "cell_type": "code",
   "execution_count": 27,
   "metadata": {},
   "outputs": [
    {
     "name": "stdout",
     "output_type": "stream",
     "text": [
      "Help on SVR in module sklearn.svm.classes object:\n",
      "\n",
      "class SVR(sklearn.svm.base.BaseLibSVM, sklearn.base.RegressorMixin)\n",
      " |  SVR(kernel='rbf', degree=3, gamma='auto_deprecated', coef0=0.0, tol=0.001, C=1.0, epsilon=0.1, shrinking=True, cache_size=200, verbose=False, max_iter=-1)\n",
      " |  \n",
      " |  Epsilon-Support Vector Regression.\n",
      " |  \n",
      " |  The free parameters in the model are C and epsilon.\n",
      " |  \n",
      " |  The implementation is based on libsvm.\n",
      " |  \n",
      " |  Read more in the :ref:`User Guide <svm_regression>`.\n",
      " |  \n",
      " |  Parameters\n",
      " |  ----------\n",
      " |  kernel : string, optional (default='rbf')\n",
      " |       Specifies the kernel type to be used in the algorithm.\n",
      " |       It must be one of 'linear', 'poly', 'rbf', 'sigmoid', 'precomputed' or\n",
      " |       a callable.\n",
      " |       If none is given, 'rbf' will be used. If a callable is given it is\n",
      " |       used to precompute the kernel matrix.\n",
      " |  \n",
      " |  degree : int, optional (default=3)\n",
      " |      Degree of the polynomial kernel function ('poly').\n",
      " |      Ignored by all other kernels.\n",
      " |  \n",
      " |  gamma : float, optional (default='auto')\n",
      " |      Kernel coefficient for 'rbf', 'poly' and 'sigmoid'.\n",
      " |  \n",
      " |      Current default is 'auto' which uses 1 / n_features,\n",
      " |      if ``gamma='scale'`` is passed then it uses 1 / (n_features * X.std())\n",
      " |      as value of gamma. The current default of gamma, 'auto', will change\n",
      " |      to 'scale' in version 0.22. 'auto_deprecated', a deprecated version of\n",
      " |      'auto' is used as a default indicating that no explicit value of gamma\n",
      " |      was passed.\n",
      " |  \n",
      " |  coef0 : float, optional (default=0.0)\n",
      " |      Independent term in kernel function.\n",
      " |      It is only significant in 'poly' and 'sigmoid'.\n",
      " |  \n",
      " |  tol : float, optional (default=1e-3)\n",
      " |      Tolerance for stopping criterion.\n",
      " |  \n",
      " |  C : float, optional (default=1.0)\n",
      " |      Penalty parameter C of the error term.\n",
      " |  \n",
      " |  epsilon : float, optional (default=0.1)\n",
      " |       Epsilon in the epsilon-SVR model. It specifies the epsilon-tube\n",
      " |       within which no penalty is associated in the training loss function\n",
      " |       with points predicted within a distance epsilon from the actual\n",
      " |       value.\n",
      " |  \n",
      " |  shrinking : boolean, optional (default=True)\n",
      " |      Whether to use the shrinking heuristic.\n",
      " |  \n",
      " |  cache_size : float, optional\n",
      " |      Specify the size of the kernel cache (in MB).\n",
      " |  \n",
      " |  verbose : bool, default: False\n",
      " |      Enable verbose output. Note that this setting takes advantage of a\n",
      " |      per-process runtime setting in libsvm that, if enabled, may not work\n",
      " |      properly in a multithreaded context.\n",
      " |  \n",
      " |  max_iter : int, optional (default=-1)\n",
      " |      Hard limit on iterations within solver, or -1 for no limit.\n",
      " |  \n",
      " |  Attributes\n",
      " |  ----------\n",
      " |  support_ : array-like, shape = [n_SV]\n",
      " |      Indices of support vectors.\n",
      " |  \n",
      " |  support_vectors_ : array-like, shape = [nSV, n_features]\n",
      " |      Support vectors.\n",
      " |  \n",
      " |  dual_coef_ : array, shape = [1, n_SV]\n",
      " |      Coefficients of the support vector in the decision function.\n",
      " |  \n",
      " |  coef_ : array, shape = [1, n_features]\n",
      " |      Weights assigned to the features (coefficients in the primal\n",
      " |      problem). This is only available in the case of a linear kernel.\n",
      " |  \n",
      " |      `coef_` is readonly property derived from `dual_coef_` and\n",
      " |      `support_vectors_`.\n",
      " |  \n",
      " |  intercept_ : array, shape = [1]\n",
      " |      Constants in decision function.\n",
      " |  \n",
      " |  Examples\n",
      " |  --------\n",
      " |  >>> from sklearn.svm import SVR\n",
      " |  >>> import numpy as np\n",
      " |  >>> n_samples, n_features = 10, 5\n",
      " |  >>> np.random.seed(0)\n",
      " |  >>> y = np.random.randn(n_samples)\n",
      " |  >>> X = np.random.randn(n_samples, n_features)\n",
      " |  >>> clf = SVR(gamma='scale', C=1.0, epsilon=0.2)\n",
      " |  >>> clf.fit(X, y) #doctest: +NORMALIZE_WHITESPACE\n",
      " |  SVR(C=1.0, cache_size=200, coef0=0.0, degree=3, epsilon=0.2, gamma='scale',\n",
      " |      kernel='rbf', max_iter=-1, shrinking=True, tol=0.001, verbose=False)\n",
      " |  \n",
      " |  See also\n",
      " |  --------\n",
      " |  NuSVR\n",
      " |      Support Vector Machine for regression implemented using libsvm\n",
      " |      using a parameter to control the number of support vectors.\n",
      " |  \n",
      " |  LinearSVR\n",
      " |      Scalable Linear Support Vector Machine for regression\n",
      " |      implemented using liblinear.\n",
      " |  \n",
      " |  Notes\n",
      " |  -----\n",
      " |  **References:**\n",
      " |  `LIBSVM: A Library for Support Vector Machines\n",
      " |  <http://www.csie.ntu.edu.tw/~cjlin/papers/libsvm.pdf>`__\n",
      " |  \n",
      " |  Method resolution order:\n",
      " |      SVR\n",
      " |      sklearn.svm.base.BaseLibSVM\n",
      " |      abc.NewBase\n",
      " |      sklearn.base.BaseEstimator\n",
      " |      sklearn.base.RegressorMixin\n",
      " |      builtins.object\n",
      " |  \n",
      " |  Methods defined here:\n",
      " |  \n",
      " |  __init__(self, kernel='rbf', degree=3, gamma='auto_deprecated', coef0=0.0, tol=0.001, C=1.0, epsilon=0.1, shrinking=True, cache_size=200, verbose=False, max_iter=-1)\n",
      " |      Initialize self.  See help(type(self)) for accurate signature.\n",
      " |  \n",
      " |  ----------------------------------------------------------------------\n",
      " |  Data and other attributes defined here:\n",
      " |  \n",
      " |  __abstractmethods__ = frozenset()\n",
      " |  \n",
      " |  ----------------------------------------------------------------------\n",
      " |  Methods inherited from sklearn.svm.base.BaseLibSVM:\n",
      " |  \n",
      " |  fit(self, X, y, sample_weight=None)\n",
      " |      Fit the SVM model according to the given training data.\n",
      " |      \n",
      " |      Parameters\n",
      " |      ----------\n",
      " |      X : {array-like, sparse matrix}, shape (n_samples, n_features)\n",
      " |          Training vectors, where n_samples is the number of samples\n",
      " |          and n_features is the number of features.\n",
      " |          For kernel=\"precomputed\", the expected shape of X is\n",
      " |          (n_samples, n_samples).\n",
      " |      \n",
      " |      y : array-like, shape (n_samples,)\n",
      " |          Target values (class labels in classification, real numbers in\n",
      " |          regression)\n",
      " |      \n",
      " |      sample_weight : array-like, shape (n_samples,)\n",
      " |          Per-sample weights. Rescale C per sample. Higher weights\n",
      " |          force the classifier to put more emphasis on these points.\n",
      " |      \n",
      " |      Returns\n",
      " |      -------\n",
      " |      self : object\n",
      " |      \n",
      " |      Notes\n",
      " |      ------\n",
      " |      If X and y are not C-ordered and contiguous arrays of np.float64 and\n",
      " |      X is not a scipy.sparse.csr_matrix, X and/or y may be copied.\n",
      " |      \n",
      " |      If X is a dense array, then the other methods will not support sparse\n",
      " |      matrices as input.\n",
      " |  \n",
      " |  predict(self, X)\n",
      " |      Perform regression on samples in X.\n",
      " |      \n",
      " |      For an one-class model, +1 (inlier) or -1 (outlier) is returned.\n",
      " |      \n",
      " |      Parameters\n",
      " |      ----------\n",
      " |      X : {array-like, sparse matrix}, shape (n_samples, n_features)\n",
      " |          For kernel=\"precomputed\", the expected shape of X is\n",
      " |          (n_samples_test, n_samples_train).\n",
      " |      \n",
      " |      Returns\n",
      " |      -------\n",
      " |      y_pred : array, shape (n_samples,)\n",
      " |  \n",
      " |  ----------------------------------------------------------------------\n",
      " |  Data descriptors inherited from sklearn.svm.base.BaseLibSVM:\n",
      " |  \n",
      " |  coef_\n",
      " |  \n",
      " |  ----------------------------------------------------------------------\n",
      " |  Methods inherited from sklearn.base.BaseEstimator:\n",
      " |  \n",
      " |  __getstate__(self)\n",
      " |  \n",
      " |  __repr__(self)\n",
      " |      Return repr(self).\n",
      " |  \n",
      " |  __setstate__(self, state)\n",
      " |  \n",
      " |  get_params(self, deep=True)\n",
      " |      Get parameters for this estimator.\n",
      " |      \n",
      " |      Parameters\n",
      " |      ----------\n",
      " |      deep : boolean, optional\n",
      " |          If True, will return the parameters for this estimator and\n",
      " |          contained subobjects that are estimators.\n",
      " |      \n",
      " |      Returns\n",
      " |      -------\n",
      " |      params : mapping of string to any\n",
      " |          Parameter names mapped to their values.\n",
      " |  \n",
      " |  set_params(self, **params)\n",
      " |      Set the parameters of this estimator.\n",
      " |      \n",
      " |      The method works on simple estimators as well as on nested objects\n",
      " |      (such as pipelines). The latter have parameters of the form\n",
      " |      ``<component>__<parameter>`` so that it's possible to update each\n",
      " |      component of a nested object.\n",
      " |      \n",
      " |      Returns\n",
      " |      -------\n",
      " |      self\n",
      " |  \n",
      " |  ----------------------------------------------------------------------\n",
      " |  Data descriptors inherited from sklearn.base.BaseEstimator:\n",
      " |  \n",
      " |  __dict__\n",
      " |      dictionary for instance variables (if defined)\n",
      " |  \n",
      " |  __weakref__\n",
      " |      list of weak references to the object (if defined)\n",
      " |  \n",
      " |  ----------------------------------------------------------------------\n",
      " |  Methods inherited from sklearn.base.RegressorMixin:\n",
      " |  \n",
      " |  score(self, X, y, sample_weight=None)\n",
      " |      Returns the coefficient of determination R^2 of the prediction.\n",
      " |      \n",
      " |      The coefficient R^2 is defined as (1 - u/v), where u is the residual\n",
      " |      sum of squares ((y_true - y_pred) ** 2).sum() and v is the total\n",
      " |      sum of squares ((y_true - y_true.mean()) ** 2).sum().\n",
      " |      The best possible score is 1.0 and it can be negative (because the\n",
      " |      model can be arbitrarily worse). A constant model that always\n",
      " |      predicts the expected value of y, disregarding the input features,\n",
      " |      would get a R^2 score of 0.0.\n",
      " |      \n",
      " |      Parameters\n",
      " |      ----------\n",
      " |      X : array-like, shape = (n_samples, n_features)\n",
      " |          Test samples. For some estimators this may be a\n",
      " |          precomputed kernel matrix instead, shape = (n_samples,\n",
      " |          n_samples_fitted], where n_samples_fitted is the number of\n",
      " |          samples used in the fitting for the estimator.\n",
      " |      \n",
      " |      y : array-like, shape = (n_samples) or (n_samples, n_outputs)\n",
      " |          True values for X.\n",
      " |      \n",
      " |      sample_weight : array-like, shape = [n_samples], optional\n",
      " |          Sample weights.\n",
      " |      \n",
      " |      Returns\n",
      " |      -------\n",
      " |      score : float\n",
      " |          R^2 of self.predict(X) wrt. y.\n",
      "\n"
     ]
    }
   ],
   "source": [
    "regr=svm.SVR(kernel='linear')\n",
    "help(regr)"
   ]
  },
  {
   "cell_type": "code",
   "execution_count": 33,
   "metadata": {},
   "outputs": [
    {
     "data": {
      "image/png": "[encoded data removed]",
      "text/plain": [
       "<Figure size 432x288 with 3 Axes>"
      ]
     },
     "metadata": {
      "needs_background": "light"
     },
     "output_type": "display_data"
    }
   ],
   "source": [
    "# 测试 多项式核的 SVR 的预测性能随  degree、gamma、coef0 的影响\n",
    "def test_SVR_poly(*data):\n",
    "    X_train,X_test,y_train,y_test=data\n",
    "    fig=plt.figure()\n",
    "    ### 测试 degree ####\n",
    "    degrees=range(1,20)\n",
    "    train_scores=[]\n",
    "    test_scores=[]\n",
    "    for degree in degrees:\n",
    "        regr=svm.SVR(kernel='poly',degree=degree,coef0=1)\n",
    "        regr.fit(X_train,y_train)\n",
    "        train_scores.append(regr.score(X_train,y_train))\n",
    "        test_scores.append(regr.score(X_test, y_test))\n",
    "    ax=fig.add_subplot(1,3,1)\n",
    "    ax.plot(degrees,train_scores,label=\"Training score \",marker='+' )\n",
    "    ax.plot(degrees,test_scores,label= \" Testing  score \",marker='o' )\n",
    "    ax.set_title( \"SVR_poly_degree r=1\")\n",
    "    ax.set_xlabel(\"p\")\n",
    "    ax.set_ylabel(\"score\")\n",
    "    ax.set_ylim(-1,1.)\n",
    "    ax.legend(loc=\"best\",framealpha=0.5)\n",
    "\n",
    "    ### 测试 gamma，固定 degree为3， coef0 为 1 ####\n",
    "    gammas=range(1,40)\n",
    "    train_scores=[]\n",
    "    test_scores=[]\n",
    "    for gamma in gammas:\n",
    "        regr=svm.SVR(kernel='poly',gamma=gamma,degree=3,coef0=1)\n",
    "        regr.fit(X_train,y_train)\n",
    "        train_scores.append(regr.score(X_train,y_train))\n",
    "        test_scores.append(regr.score(X_test, y_test))\n",
    "    ax=fig.add_subplot(1,3,2)\n",
    "    ax.plot(gammas,train_scores,label=\"Training score \",marker='+' )\n",
    "    ax.plot(gammas,test_scores,label= \" Testing  score \",marker='o' )\n",
    "    ax.set_title( \"SVR_poly_gamma  r=1\")\n",
    "    ax.set_xlabel(r\"$\\gamma$\")\n",
    "    ax.set_ylabel(\"score\")\n",
    "    ax.set_ylim(-1,1)\n",
    "    ax.legend(loc=\"best\",framealpha=0.5)\n",
    "    ### 测试 r，固定 gamma 为 20，degree为 3 ######\n",
    "    rs=range(0,20)\n",
    "    train_scores=[]\n",
    "    test_scores=[]\n",
    "    for r in rs:\n",
    "        regr=svm.SVR(kernel='poly',gamma=20,degree=3,coef0=r)\n",
    "        regr.fit(X_train,y_train)\n",
    "        train_scores.append(regr.score(X_train,y_train))\n",
    "        test_scores.append(regr.score(X_test, y_test))\n",
    "    ax=fig.add_subplot(1,3,3)\n",
    "    ax.plot(rs,train_scores,label=\"Training score \",marker='+' )\n",
    "    ax.plot(rs,test_scores,label= \" Testing  score \",marker='o' )\n",
    "    ax.set_title( \"SVR_poly_r gamma=20 degree=3\")\n",
    "    ax.set_xlabel(r\"r\")\n",
    "    ax.set_ylabel(\"score\")\n",
    "    ax.set_ylim(-1,1.)\n",
    "    ax.legend(loc=\"best\",framealpha=0.5)\n",
    "    plt.subplots_adjust(right=2.5)\n",
    "    plt.show()\n",
    "test_SVR_poly(X_train,X_test,y_train,y_test)"
   ]
  },
  {
   "cell_type": "code",
   "execution_count": 35,
   "metadata": {},
   "outputs": [
    {
     "data": {
      "image/png": "[encoded data removed]",
      "text/plain": [
       "<Figure size 432x288 with 1 Axes>"
      ]
     },
     "metadata": {
      "needs_background": "light"
     },
     "output_type": "display_data"
    }
   ],
   "source": [
    "# 测试 高斯核的 SVR 的预测性能随 gamma 参数的影响\n",
    "def test_SVR_rbf(*data):\n",
    "    X_train,X_test,y_train,y_test=data\n",
    "    gammas=range(1,20)\n",
    "    train_scores=[]\n",
    "    test_scores=[]\n",
    "    for gamma in gammas:\n",
    "        regr=svm.SVR(kernel='rbf',gamma=gamma)\n",
    "        regr.fit(X_train,y_train)\n",
    "        train_scores.append(regr.score(X_train,y_train))\n",
    "        test_scores.append(regr.score(X_test, y_test))\n",
    "    fig=plt.figure()\n",
    "    ax=fig.add_subplot(1,1,1)\n",
    "    ax.plot(gammas,train_scores,label=\"Training score \",marker='+' )\n",
    "    ax.plot(gammas,test_scores,label= \" Testing  score \",marker='o' )\n",
    "    ax.set_title( \"SVR_rbf\")\n",
    "    ax.set_xlabel(r\"$\\gamma$\")\n",
    "    ax.set_ylabel(\"score\")\n",
    "    ax.set_ylim(-1,1)\n",
    "    ax.legend(loc=\"best\",framealpha=0.5)\n",
    "    plt.show()\n",
    "test_SVR_rbf(X_train,X_test,y_train,y_test)"
   ]
  },
  {
   "cell_type": "code",
   "execution_count": 37,
   "metadata": {},
   "outputs": [
    {
     "data": {
      "image/png": "[encoded data removed]",
      "text/plain": [
       "<Figure size 432x288 with 2 Axes>"
      ]
     },
     "metadata": {
      "needs_background": "light"
     },
     "output_type": "display_data"
    }
   ],
   "source": [
    "# 测试 sigmoid 核的 SVR 的预测性能随 gamma、coef0 的影响\n",
    "def test_SVR_sigmoid(*data):\n",
    "    X_train,X_test,y_train,y_test=data\n",
    "    fig=plt.figure()\n",
    "\n",
    "    ### 测试 gammam，固定 coef0 为 0.01 ####\n",
    "    gammas=np.logspace(-1,3)\n",
    "    train_scores=[]\n",
    "    test_scores=[]\n",
    "\n",
    "    for gamma in gammas:\n",
    "        regr=svm.SVR(kernel='sigmoid',gamma=gamma,coef0=0.01)\n",
    "        regr.fit(X_train,y_train)\n",
    "        train_scores.append(regr.score(X_train,y_train))\n",
    "        test_scores.append(regr.score(X_test, y_test))\n",
    "    ax=fig.add_subplot(1,2,1)\n",
    "    ax.plot(gammas,train_scores,label=\"Training score \",marker='+' )\n",
    "    ax.plot(gammas,test_scores,label= \" Testing  score \",marker='o' )\n",
    "    ax.set_title( \"SVR_sigmoid_gamma r=0.01\")\n",
    "    ax.set_xscale(\"log\")\n",
    "    ax.set_xlabel(r\"$\\gamma$\")\n",
    "    ax.set_ylabel(\"score\")\n",
    "    ax.set_ylim(-1,1)\n",
    "    ax.legend(loc=\"best\",framealpha=0.5)\n",
    "    ### 测试 r ，固定 gamma 为 10 ######\n",
    "    rs=np.linspace(0,5)\n",
    "    train_scores=[]\n",
    "    test_scores=[]\n",
    "\n",
    "    for r in rs:\n",
    "        regr=svm.SVR(kernel='sigmoid',coef0=r,gamma=10)\n",
    "        regr.fit(X_train,y_train)\n",
    "        train_scores.append(regr.score(X_train,y_train))\n",
    "        test_scores.append(regr.score(X_test, y_test))\n",
    "    ax=fig.add_subplot(1,2,2)\n",
    "    ax.plot(rs,train_scores,label=\"Training score \",marker='+' )\n",
    "    ax.plot(rs,test_scores,label= \" Testing  score \",marker='o' )\n",
    "    ax.set_title( \"SVR_sigmoid_r gamma=10\")\n",
    "    ax.set_xlabel(r\"r\")\n",
    "    ax.set_ylabel(\"score\")\n",
    "    ax.set_ylim(-1,1)\n",
    "    ax.legend(loc=\"best\",framealpha=0.5)\n",
    "    plt.subplots_adjust(right=1.5)\n",
    "    plt.show()\n",
    "test_SVR_sigmoid(X_train,X_test,y_train,y_test)"
   ]
  },
  {
   "cell_type": "code",
   "execution_count": null,
   "metadata": {},
   "outputs": [],
   "source": []
  }
 ],
 "metadata": {
  "kernelspec": {
   "display_name": "Python [conda env:root] *",
   "language": "python",
   "name": "conda-root-py"
  },
  "language_info": {
   "codemirror_mode": {
    "name": "ipython",
    "version": 3
   },
   "file_extension": ".py",
   "mimetype": "text/x-python",
   "name": "python",
   "nbconvert_exporter": "python",
   "pygments_lexer": "ipython3",
   "version": "3.7.3"
  },
  "toc": {
   "base_numbering": 1,
   "nav_menu": {},
   "number_sections": true,
   "sideBar": true,
   "skip_h1_title": false,
   "title_cell": "Table of Contents",
   "title_sidebar": "Contents",
   "toc_cell": false,
   "toc_position": {
    "height": "calc(100% - 180px)",
    "left": "10px",
    "top": "150px",
    "width": "384px"
   },
   "toc_section_display": true,
   "toc_window_display": true
  }
 },
 "nbformat": 4,
 "nbformat_minor": 2
}
